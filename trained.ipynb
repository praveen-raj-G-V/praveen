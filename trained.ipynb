{
 "cells": [
  {
   "cell_type": "code",
   "execution_count": null,
   "id": "c3b6d4f6-38b3-4a01-80fe-93bff303a1be",
   "metadata": {},
   "outputs": [],
   "source": [
    "import numpy as np\n",
    "import pandas as pd\n",
    "from sklearn.metrics import confusion_matrix, accuracy_score, precision_score\n",
    "from sklearn.preprocessing import QuantileTransformer\n",
    "from sklearn.tree import DecisionTreeClassifier\n",
    "from sklearn.model_selection import GridSearchCV, cross_val_score, StratifiedKFold, learning_curve, train_test_split"
   ]
  },
  {
   "cell_type": "code",
   "execution_count": null,
   "id": "331ea84b-1dc6-433c-832e-1438641ff4fd",
   "metadata": {},
   "outputs": [],
   "source": [
    "data = pd.read_csv(\"diabetes1.csv\")\n",
    "data"
   ]
  },
  {
   "cell_type": "code",
   "execution_count": null,
   "id": "5501642b-3480-4024-9aba-db626f696bd1",
   "metadata": {},
   "outputs": [],
   "source": [
    "# Showing the top 5 rows of the dataset "
   ]
  },
  {
   "cell_type": "code",
   "execution_count": null,
   "id": "550c23e4-7498-4402-89f6-99c5135ca93d",
   "metadata": {},
   "outputs": [],
   "source": [
    "# Replacing 0 values of Glucose with the median of the Glucose column\n",
    "data['Glucose'] = data['Glucose'].replace(0, data['Glucose'].median())\n",
    "\n",
    "# Filling 0 values of Blood Pressure with the median of the Blood Pressure column\n",
    "data['BloodPressure'] = data['BloodPressure'].replace(0, data['BloodPressure'].median())\n",
    "\n",
    "# Replacing 0 values in BMI with the mean of the BMI column\n",
    "data['BMI'] = data['BMI'].replace(0, data['BMI'].mean())\n",
    "\n",
    "# Replacing the missing values of Skin Thickness with the mean of the Skin Thickness column\n",
    "data['SkinThickness'] = data['SkinThickness'].replace(0, data['SkinThickness'].mean())\n",
    "\n",
    "# Replacing the missing values of Insulin with the mean of the Insulin column\n",
    "data['Insulin'] = data['Insulin'].replace(0, data['Insulin'].mean())\n",
    "\n",
    "# Display the updated DataFrame\n",
    "data.head()"
   ]
  },
  {
   "cell_type": "code",
   "execution_count": null,
   "id": "249b9026-04cd-4da9-9e48-734df21ff383",
   "metadata": {},
   "outputs": [],
   "source": [
    "import seaborn as sns\n",
    "import matplotlib.pyplot as plt\n",
    "\n",
    "# Create a correlation heatmap\n",
    "plt.figure(figsize=(10, 8))\n",
    "sns.heatmap(data.corr(), annot=True, fmt=\".3f\", cmap=\"YlGnBu\")\n",
    "plt.title(\"Correlation heatmap\")\n"
   ]
  },
  {
   "cell_type": "code",
   "execution_count": null,
   "id": "fc874edf-4c00-4684-bdeb-10a2c09d53d9",
   "metadata": {},
   "outputs": [],
   "source": [
    "from sklearn.preprocessing import QuantileTransformer\n",
    "\n",
    "# Initialize the QuantileTransformer with default n_quantiles\n",
    "quartile = QuantileTransformer()\n",
    "\n",
    "# Transform the data\n",
    "X = quartile.fit_transform(data)\n",
    "\n",
    "# Convert the transformed data to a Pandas DataFrame and set column names\n",
    "dataset = pd.DataFrame(X, columns=['Pregnancies', 'Glucose', 'BloodPressure', 'SkinThickness', 'Insulin', 'BMI', 'DiabetesPedigreeFunction', 'Age', 'Outcome'])\n",
    "\n",
    "# Show the top 5 rows of the transformed dataset\n"
   ]
  },
  {
   "cell_type": "code",
   "execution_count": null,
   "id": "8d46bc15-20c1-4df6-aa28-74a0d92d8134",
   "metadata": {},
   "outputs": [],
   "source": [
    "from sklearn.model_selection import train_test_split\n",
    "\n",
    "# Splitting the dependent and independent features\n",
    "X = data.drop([\"Outcome\"], axis=1)\n",
    "Y = data[\"Outcome\"]\n",
    "\n",
    "# Splitting the dataset into the training and testing dataset\n",
    "X_train,X_test,Y_train,Y_test = train_test_split(X, Y, test_size=0.3, random_state=10)\n",
    "print(\"The size of the training dataset: \",X_train.size)\n",
    "print(\"The size of the testing dataset: \",X_test.size)\n",
    "\n"
   ]
  },
  {
   "cell_type": "code",
   "execution_count": null,
   "id": "1f6ad3b0-fa66-4cad-959d-ec0e843d09de",
   "metadata": {},
   "outputs": [],
   "source": [
    "###HYPER PARAMETER TUNING\n",
    "X_test = X_test.drop(\"predictions\", axis=1)\n",
    "# Check and compare the columns of X_train and X_test"
   ]
  },
  {
   "cell_type": "code",
   "execution_count": null,
   "id": "7690e4b4-c3ed-4461-862b-e086503357c1",
   "metadata": {},
   "outputs": [],
   "source": [
    "from sklearn.tree import DecisionTreeClassifier\n",
    "\n",
    "# Create a DecisionTreeClassifier model\n",
    "model = DecisionTreeClassifier(criterion='gini', max_depth=None) \n",
    "\n",
    "# Train the model with your training data\n",
    "model.fit(X_train, Y_train)  # X_train is your feature data, y_train is your target data\n"
   ]
  },
  {
   "cell_type": "code",
   "execution_count": null,
   "id": "4856b2bd-8d8f-49c2-8f56-087c5aead1da",
   "metadata": {},
   "outputs": [],
   "source": [
    "# Make predictions using the trained model\n",
    "Y_pred= model.predict(X_test)  # X_test is your test data\n",
    "\n",
    "from sklearn.metrics import accuracy_score\n",
    "accuracy = accuracy_score(Y_test,Y_pred)\n",
    "\n",
    "# Print the accuracy\n",
    "print(f'Accuracy: {accuracy}')\n"
   ]
  },
  {
   "cell_type": "code",
   "execution_count": null,
   "id": "f776116b-7cc5-407e-9a0b-74c4e67d8017",
   "metadata": {},
   "outputs": [],
   "source": [
    "# Importing the required libraries\n",
    "from sklearn.metrics import classification_report\n",
    "from sklearn.model_selection import GridSearchCV\n",
    "from sklearn.tree import DecisionTreeClassifier\n",
    "\n",
    "# Define the analyze_grid function to analyze GridSearchCV results and make predictions\n",
    "def analyze_grid(grid):\n",
    "    '''\n",
    "    Analyzing the results of GridCV method and making predictions for the test data\n",
    "    Presenting the classification report at the end\n",
    "    '''\n",
    "    # Printing the best parameter and accuracy score\n",
    "    print(\"Tuned hyperparameters: \", grid.best_params_)\n",
    "    print(\"Accuracy Score:\", grid.best_score_)\n",
    "    \n",
    "    mean_values = grid.cv_results_[\"mean_test_score\"]\n",
    "    std_values = grid.cv_results_[\"std_test_score\"]\n",
    "    for m, s, p in zip(mean_values, std_values, grid.cv_results_[\"params\"]):\n",
    "        print(f\"Mean: {m}, Std: {s} * 2, Params: {p}\")\n",
    "    \n",
    "    print(\"The classification Report:\")\n",
    "    Y_true, Y_pred = Y_test, grid.predict(X_test)\n",
    "    print(classification_report(Y_true, Y_pred))\n",
    "    print()\n",
    "\n",
    "# Define the Decision Tree model and its hyperparameters\n",
    "model = DecisionTreeClassifier()\n",
    "criterion_list = ['gini', 'entropy']\n",
    "max_depth_values = [None, 10, 20, 30, 40]\n",
    "\n",
    "# Define the grid search\n",
    "grid_dt = dict(criterion=criterion_list, max_depth=max_depth_values)\n",
    "cross_val = StratifiedKFold(n_splits=100, random_state=10, shuffle=True)\n",
    "grid_search_cv = GridSearchCV(estimator=model, param_grid=grid_dt, cv=cross_val, scoring='accuracy', error_score=0)\n",
    "dt_result = grid_search_cv.fit(X_train, Y_train)\n",
    "\n",
    "# Result of Hyper Parameters of Decision Tree\n",
    "analyze_grid(dt_result)"
   ]
  },
  {
   "cell_type": "code",
   "execution_count": null,
   "id": "4dceb04b-8291-4536-9ce3-086495e8f82d",
   "metadata": {},
   "outputs": [],
   "source": [
    "import joblib\n",
    "\n",
    "# Assuming your model is named 'model' (replace w|ith the actual name of your model)\n",
    "# and you've already trained it\n",
    "\n",
    "# Save the trained model to a file\n",
    "joblib.dump(model, 'diabetesmodel.pkl')\n"
   ]
  },
  {
   "cell_type": "code",
   "execution_count": null,
   "id": "75df96a6-bca2-4a78-8024-24444a22f212",
   "metadata": {},
   "outputs": [],
   "source": []
  }
 ],
 "metadata": {
  "kernelspec": {
   "display_name": "Python 3 (ipykernel)",
   "language": "python",
   "name": "python3"
  },
  "language_info": {
   "codemirror_mode": {
    "name": "ipython",
    "version": 3
   },
   "file_extension": ".py",
   "mimetype": "text/x-python",
   "name": "python",
   "nbconvert_exporter": "python",
   "pygments_lexer": "ipython3",
   "version": "3.12.0"
  }
 },
 "nbformat": 4,
 "nbformat_minor": 5
}
